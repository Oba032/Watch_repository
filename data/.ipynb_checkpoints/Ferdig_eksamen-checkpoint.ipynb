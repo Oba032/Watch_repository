{
 "cells": [
  {
   "cell_type": "code",
   "execution_count": 11,
   "id": "4b667381-c047-438f-8cb0-44035d4a8744",
   "metadata": {},
   "outputs": [
    {
     "name": "stdout",
     "output_type": "stream",
     "text": [
      "C:\\Users\\oba032\\Github_Exam\\Github_Exam\\scripts\n"
     ]
    }
   ],
   "source": [
    "import pandas as pd\n",
    "\n",
    "import os\n",
    "print(os.getcwd())"
   ]
  },
  {
   "cell_type": "code",
   "execution_count": 13,
   "id": "1207f7a8-02d1-46ce-a7fc-8fa236877434",
   "metadata": {},
   "outputs": [
    {
     "ename": "FileNotFoundError",
     "evalue": "[Errno 2] No such file or directory: 'HealthAutoExport-2024-12-21-2025-03-21.csv'",
     "output_type": "error",
     "traceback": [
      "\u001b[1;31m---------------------------------------------------------------------------\u001b[0m",
      "\u001b[1;31mFileNotFoundError\u001b[0m                         Traceback (most recent call last)",
      "Cell \u001b[1;32mIn[13], line 1\u001b[0m\n\u001b[1;32m----> 1\u001b[0m \u001b[38;5;28;01mwith\u001b[39;00m \u001b[38;5;28mopen\u001b[39m(\u001b[38;5;124m'\u001b[39m\u001b[38;5;124mHealthAutoExport-2024-12-21-2025-03-21.csv\u001b[39m\u001b[38;5;124m'\u001b[39m, \u001b[38;5;124m'\u001b[39m\u001b[38;5;124mr\u001b[39m\u001b[38;5;124m'\u001b[39m) \u001b[38;5;28;01mas\u001b[39;00m file:\n\u001b[0;32m      2\u001b[0m     \u001b[38;5;28;01mfor\u001b[39;00m i \u001b[38;5;129;01min\u001b[39;00m \u001b[38;5;28mrange\u001b[39m(\u001b[38;5;241m50\u001b[39m):\n\u001b[0;32m      3\u001b[0m         \u001b[38;5;28mprint\u001b[39m(file\u001b[38;5;241m.\u001b[39mreadline())\n",
      "File \u001b[1;32m~\\AppData\\Local\\anaconda3\\Lib\\site-packages\\IPython\\core\\interactiveshell.py:324\u001b[0m, in \u001b[0;36m_modified_open\u001b[1;34m(file, *args, **kwargs)\u001b[0m\n\u001b[0;32m    317\u001b[0m \u001b[38;5;28;01mif\u001b[39;00m file \u001b[38;5;129;01min\u001b[39;00m {\u001b[38;5;241m0\u001b[39m, \u001b[38;5;241m1\u001b[39m, \u001b[38;5;241m2\u001b[39m}:\n\u001b[0;32m    318\u001b[0m     \u001b[38;5;28;01mraise\u001b[39;00m \u001b[38;5;167;01mValueError\u001b[39;00m(\n\u001b[0;32m    319\u001b[0m         \u001b[38;5;124mf\u001b[39m\u001b[38;5;124m\"\u001b[39m\u001b[38;5;124mIPython won\u001b[39m\u001b[38;5;124m'\u001b[39m\u001b[38;5;124mt let you open fd=\u001b[39m\u001b[38;5;132;01m{\u001b[39;00mfile\u001b[38;5;132;01m}\u001b[39;00m\u001b[38;5;124m by default \u001b[39m\u001b[38;5;124m\"\u001b[39m\n\u001b[0;32m    320\u001b[0m         \u001b[38;5;124m\"\u001b[39m\u001b[38;5;124mas it is likely to crash IPython. If you know what you are doing, \u001b[39m\u001b[38;5;124m\"\u001b[39m\n\u001b[0;32m    321\u001b[0m         \u001b[38;5;124m\"\u001b[39m\u001b[38;5;124myou can use builtins\u001b[39m\u001b[38;5;124m'\u001b[39m\u001b[38;5;124m open.\u001b[39m\u001b[38;5;124m\"\u001b[39m\n\u001b[0;32m    322\u001b[0m     )\n\u001b[1;32m--> 324\u001b[0m \u001b[38;5;28;01mreturn\u001b[39;00m io_open(file, \u001b[38;5;241m*\u001b[39margs, \u001b[38;5;241m*\u001b[39m\u001b[38;5;241m*\u001b[39mkwargs)\n",
      "\u001b[1;31mFileNotFoundError\u001b[0m: [Errno 2] No such file or directory: 'HealthAutoExport-2024-12-21-2025-03-21.csv'"
     ]
    }
   ],
   "source": [
    "with open('HealthAutoExport-2024-12-21-2025-03-21.csv', 'r') as file:\n",
    "    for i in range(50):\n",
    "        print(file.readline())"
   ]
  },
  {
   "cell_type": "code",
   "execution_count": null,
   "id": "793fae82-5242-4c4a-b853-eaba56523d66",
   "metadata": {
    "scrolled": true
   },
   "outputs": [],
   "source": [
    "df = pd.read_csv('HealthAutoExport-2024-12-21-2025-03-21.csv', sep=';')\n",
    "print(df.head())"
   ]
  },
  {
   "cell_type": "code",
   "execution_count": null,
   "id": "4fdedf87-2023-4810-b35a-2a326fc68f45",
   "metadata": {},
   "outputs": [],
   "source": [
    "print(df.columns)\n",
    "print(df.dtypes)\n",
    "print(df.describe())"
   ]
  },
  {
   "cell_type": "code",
   "execution_count": null,
   "id": "6352ca26-db1a-46a6-974b-a0682076e659",
   "metadata": {
    "scrolled": true
   },
   "outputs": [],
   "source": [
    "# Ensure the 'Resting Energy (kJ)' column is numeric (convert if necessary)\n",
    "df['Resting Energy (kJ)'] = pd.to_numeric(df['Resting Energy (kJ)'], errors='coerce')\n",
    "\n",
    "# Convert 'Resting Energy (kJ)' to 'Resting Energy (kcal)'\n",
    "df['Resting Energy (kcal)'] = df['Resting Energy (kJ)'] / 4.184\n",
    "\n",
    "# Now, display the dataframe to check if the new column exists\n",
    "print(df[['Resting Energy (kJ)', 'Resting Energy (kcal)']])"
   ]
  },
  {
   "cell_type": "code",
   "execution_count": null,
   "id": "ba2fd250-5531-417c-8441-5894788fa8aa",
   "metadata": {},
   "outputs": [],
   "source": [
    "cols_to_numeric = [\n",
    "    'Sleep Analysis [Asleep] (hr)',\n",
    "    'Sleep Analysis [Core] (hr)',\n",
    "    'Sleep Analysis [REM] (hr)'\n",
    "]\n",
    "print(cols_to_numeric)"
   ]
  },
  {
   "cell_type": "code",
   "execution_count": null,
   "id": "e290eadd-2bde-4b9e-b32f-414a628bd5e4",
   "metadata": {
    "scrolled": true
   },
   "outputs": [],
   "source": [
    "grouped = df.groupby('Date').agg({\n",
    "    'Active Energy (kcal)': 'sum',\n",
    "    'Apple Stand Hour (hours)': 'sum',\n",
    "    'Heart Rate [Min] (bpm)': 'sum',\n",
    "    'Heart Rate [Max] (bpm)': 'sum',\n",
    "    'Heart Rate [Avg] (bpm)': 'sum',\n",
    "    'Resting Energy (kcal)': 'sum',\n",
    "    'Resting Heart Rate (bpm)': 'sum',\n",
    "    'Sleep Analysis [Asleep] (hr)': 'sum',\n",
    "    'Sleep Analysis [In Bed] (hr)': 'sum',\n",
    "    'Sleep Analysis [Core] (hr)': 'sum',\n",
    "    'Sleep Analysis [Deep] (hr)': 'sum',\n",
    "    'Sleep Analysis [REM] (hr)': 'sum',\n",
    "    'Sleep Analysis [Awake] (hr)': 'sum',\n",
    "    'Step Count (steps)': 'sum',\n",
    "    'Walking Heart Rate Average (bpm)': 'sum'\n",
    "}).reset_index()\n",
    "\n",
    "# Ensure 'Date' remains an object (if it's not already)\n",
    "grouped['Date'] = grouped['Date'].astype(str)\n",
    "\n",
    "# Show the result\n",
    "print(grouped)"
   ]
  },
  {
   "cell_type": "code",
   "execution_count": null,
   "id": "7d5cdfd2-fb87-4701-aba6-2bf5119d7391",
   "metadata": {},
   "outputs": [],
   "source": [
    "list_of_days = grouped.to_dict(orient='records')\n",
    "\n",
    "print(list_of_days)"
   ]
  },
  {
   "cell_type": "code",
   "execution_count": null,
   "id": "9f2304a1-2449-47f1-83e1-a895075c6c54",
   "metadata": {},
   "outputs": [],
   "source": [
    "## Now we can round the values to the nearest 0.1. THis is just to get rid of values with several XXXXX"
   ]
  },
  {
   "cell_type": "code",
   "execution_count": null,
   "id": "47379a4c-e635-4183-a4bc-754ae2d64ea6",
   "metadata": {
    "scrolled": true
   },
   "outputs": [],
   "source": [
    "columns_to_round = [\n",
    "    'Active Energy (kcal)',\n",
    "    'Apple Stand Hour (hours)',\n",
    "    'Heart Rate [Min] (bpm)',\n",
    "    'Heart Rate [Max] (bpm)',\n",
    "    'Heart Rate [Avg] (bpm)',\n",
    "    'Resting Energy (kcal)', \n",
    "    'Resting Heart Rate (bpm)',\n",
    "    'Sleep Analysis [Asleep] (hr)',\n",
    "    'Sleep Analysis [In Bed] (hr)',\n",
    "    'Sleep Analysis [Core] (hr)',\n",
    "    'Sleep Analysis [Deep] (hr)',\n",
    "    'Sleep Analysis [REM] (hr)',\n",
    "    'Sleep Analysis [Awake] (hr)',\n",
    "    'Step Count (steps)',\n",
    "    'Walking Heart Rate Average (bpm)'\n",
    "]\n",
    "\n",
    "# Apply rounding to the relevant columns in the grouped dataframe\n",
    "grouped[columns_to_round] = grouped[columns_to_round].round(1)\n",
    "\n",
    "# Display the result\n",
    "print(grouped)\n"
   ]
  },
  {
   "cell_type": "code",
   "execution_count": null,
   "id": "27191698-f375-449e-9698-e177e58d1d99",
   "metadata": {},
   "outputs": [],
   "source": [
    "## And just to simplify sleep we can create a single variable containing all the sleep values.\n",
    "\n",
    "## Since we are just interested in the amount of sleep XXXX"
   ]
  },
  {
   "cell_type": "code",
   "execution_count": 9,
   "id": "f8b783e2-af2c-4d79-9ac6-407048e0d6f0",
   "metadata": {
    "scrolled": true
   },
   "outputs": [
    {
     "ename": "NameError",
     "evalue": "name 'grouped' is not defined",
     "output_type": "error",
     "traceback": [
      "\u001b[1;31m---------------------------------------------------------------------------\u001b[0m",
      "\u001b[1;31mNameError\u001b[0m                                 Traceback (most recent call last)",
      "Cell \u001b[1;32mIn[9], line 12\u001b[0m\n\u001b[0;32m      2\u001b[0m sleep_columns \u001b[38;5;241m=\u001b[39m [\n\u001b[0;32m      3\u001b[0m     \u001b[38;5;124m'\u001b[39m\u001b[38;5;124mSleep Analysis [Asleep] (hr)\u001b[39m\u001b[38;5;124m'\u001b[39m, \n\u001b[0;32m      4\u001b[0m     \u001b[38;5;124m'\u001b[39m\u001b[38;5;124mSleep Analysis [In Bed] (hr)\u001b[39m\u001b[38;5;124m'\u001b[39m, \n\u001b[1;32m   (...)\u001b[0m\n\u001b[0;32m      8\u001b[0m     \u001b[38;5;124m'\u001b[39m\u001b[38;5;124mSleep Analysis [Awake] (hr)\u001b[39m\u001b[38;5;124m'\u001b[39m\n\u001b[0;32m      9\u001b[0m ]\n\u001b[0;32m     11\u001b[0m \u001b[38;5;66;03m# Convert the necessary columns to numeric, coercing errors to NaN\u001b[39;00m\n\u001b[1;32m---> 12\u001b[0m grouped[sleep_columns] \u001b[38;5;241m=\u001b[39m grouped[sleep_columns]\u001b[38;5;241m.\u001b[39mapply(pd\u001b[38;5;241m.\u001b[39mto_numeric, errors\u001b[38;5;241m=\u001b[39m\u001b[38;5;124m'\u001b[39m\u001b[38;5;124mcoerce\u001b[39m\u001b[38;5;124m'\u001b[39m)\n\u001b[0;32m     14\u001b[0m \u001b[38;5;66;03m# Add a new column 'total sleep' by summing the relevant sleep-related columns\u001b[39;00m\n\u001b[0;32m     15\u001b[0m grouped[\u001b[38;5;124m'\u001b[39m\u001b[38;5;124mtotal sleep\u001b[39m\u001b[38;5;124m'\u001b[39m] \u001b[38;5;241m=\u001b[39m grouped[sleep_columns]\u001b[38;5;241m.\u001b[39msum(axis\u001b[38;5;241m=\u001b[39m\u001b[38;5;241m1\u001b[39m)\n",
      "\u001b[1;31mNameError\u001b[0m: name 'grouped' is not defined"
     ]
    }
   ],
   "source": [
    "# Columns to sum for total sleep\n",
    "sleep_columns = [\n",
    "    'Sleep Analysis [Asleep] (hr)', \n",
    "    'Sleep Analysis [In Bed] (hr)', \n",
    "    'Sleep Analysis [Core] (hr)', \n",
    "    'Sleep Analysis [Deep] (hr)', \n",
    "    'Sleep Analysis [REM] (hr)', \n",
    "    'Sleep Analysis [Awake] (hr)'\n",
    "]\n",
    "\n",
    "# Convert the necessary columns to numeric, coercing errors to NaN\n",
    "grouped[sleep_columns] = grouped[sleep_columns].apply(pd.to_numeric, errors='coerce')\n",
    "\n",
    "# Add a new column 'total sleep' by summing the relevant sleep-related columns\n",
    "grouped['total sleep'] = grouped[sleep_columns].sum(axis=1)\n",
    "\n",
    "# Drop the original sleep-related columns as you only want 'total sleep'\n",
    "grouped.drop(columns=sleep_columns, inplace=True)\n",
    "\n",
    "# Display the updated dataframe\n",
    "print(grouped)\n"
   ]
  },
  {
   "cell_type": "code",
   "execution_count": null,
   "id": "b1ee1f6e-ee42-44cb-a906-ada681f16113",
   "metadata": {},
   "outputs": [],
   "source": [
    "# Show the first few rows with the index\n",
    "print(grouped.head())\n"
   ]
  },
  {
   "cell_type": "code",
   "execution_count": null,
   "id": "8910313c-434d-4b45-b5c5-05d132096ead",
   "metadata": {},
   "outputs": [],
   "source": [
    "# List of columns to check for missing values\n",
    "columns_to_check = [\n",
    "    'Active Energy (kcal)',\n",
    "    'Apple Stand Hour (hours)',\n",
    "    'Heart Rate [Min] (bpm)',\n",
    "    'Heart Rate [Max] (bpm)',\n",
    "    'Heart Rate [Avg] (bpm)',\n",
    "    'Resting Energy (kcal)',\n",
    "    'Resting Heart Rate (bpm)',\n",
    "    'Step Count (steps)',\n",
    "    'Walking Heart Rate Average (bpm)',\n",
    "    'total sleep'\n",
    "]\n",
    "\n",
    "# Drop rows where any value in the specified columns is missing\n",
    "grouped_cleaned = grouped.dropna(subset=columns_to_check)\n",
    "\n",
    "# Display the cleaned DataFrame\n",
    "print(grouped_cleaned)"
   ]
  },
  {
   "cell_type": "code",
   "execution_count": null,
   "id": "78859986-5404-440f-b462-05720266162a",
   "metadata": {},
   "outputs": [],
   "source": [
    "correlation_matrix = grouped.drop(columns=['Date']).corr()\n",
    "\n",
    "active_energy_corr = correlation_matrix['Active Energy (kcal)'].sort_values(ascending=False)\n",
    "\n",
    "print(active_energy_corr)"
   ]
  },
  {
   "cell_type": "code",
   "execution_count": null,
   "id": "40434f91-870d-4155-88a4-48e3ed9705de",
   "metadata": {
    "scrolled": true
   },
   "outputs": [],
   "source": [
    "import seaborn as sns\n",
    "import matplotlib.pyplot as plt\n",
    "\n",
    "plt.figure(figsize=(8, 6))\n",
    "sns.heatmap(correlation_matrix, annot=True, cmap='coolwarm', fmt=\".2f\", linewidths=0.5)\n",
    "plt.title(\"Correlation Heatmap (Excluding Date)\")\n",
    "plt.show()\n"
   ]
  },
  {
   "cell_type": "code",
   "execution_count": null,
   "id": "601aaff7-2391-4ddd-a7e3-578ade078f1c",
   "metadata": {
    "jupyter": {
     "source_hidden": true
    }
   },
   "outputs": [],
   "source": [
    "import matplotlib.pyplot as plt\n",
    "import seaborn as sns\n",
    "\n",
    "# Updated variables and their correlation values\n",
    "variables = [\n",
    "    \"Heart Rate [Min] (bpm)\", \n",
    "    \"Heart Rate [Avg] (bpm)\", \n",
    "    \"Heart Rate [Max] (bpm)\", \n",
    "    \"Resting Energy (kcal)\", \n",
    "    \"Step Count (steps)\", \n",
    "    \"Walking Heart Rate Average (bpm)\", \n",
    "    \"total sleep\", \n",
    "    \"Apple Stand Hour (hours)\", \n",
    "    \"Resting Heart Rate (bpm)\"\n",
    "]\n",
    "\n",
    "correlations = [\n",
    "    0.181505, \n",
    "    0.116642, \n",
    "    0.019604, \n",
    "    -0.027525, \n",
    "    -0.040204, \n",
    "    -0.051901, \n",
    "    -0.111856, \n",
    "    -0.113451, \n",
    "    -0.240865\n",
    "]\n",
    "\n",
    "# Plotting the barplot\n",
    "plt.figure(figsize=(10, 6))\n",
    "sns.barplot(x=correlations, y=variables, palette=[\"red\" if c < 0 else \"blue\" for c in correlations], orient='h')\n",
    "\n",
    "# Adding labels and title\n",
    "plt.xlabel(\"Correlation with Active Energy (kcal)\")\n",
    "plt.ylabel(\"Variables\")\n",
    "plt.title(\"Correlation between Active Energy (kcal) and Various Variables\")\n",
    "plt.axvline(x=0, color='black', linewidth=1)\n",
    "\n",
    "# Show the plot\n",
    "plt.show()\n"
   ]
  },
  {
   "cell_type": "code",
   "execution_count": null,
   "id": "82c8322a-2ee1-4c25-a6fe-d8e5318b8970",
   "metadata": {
    "scrolled": true
   },
   "outputs": [],
   "source": [
    "import matplotlib.pyplot as plt\n",
    "import seaborn as sns\n",
    "\n",
    "# Scatter plot to visualize the relationship between Step Count and Active Energy (kcal)\n",
    "plt.figure(figsize=(8, 6))\n",
    "sns.scatterplot(x=grouped['Step Count (steps)'], y=grouped['Active Energy (kcal)'])\n",
    "plt.xlabel('Step Count (steps)')\n",
    "plt.ylabel('Active Energy (kcal)')\n",
    "plt.title('Step Count vs Active Energy (kcal)')\n",
    "plt.show()"
   ]
  },
  {
   "cell_type": "code",
   "execution_count": null,
   "id": "e7105a16-5c08-4b37-a248-5615d6fa89d7",
   "metadata": {},
   "outputs": [],
   "source": [
    "# Remove rows where Active Energy (kcal) is above a threshold (e.g., 17,500 kcal)\n",
    "filtered_grouped = grouped[grouped['Active Energy (kcal)'] <= 8000]\n"
   ]
  },
  {
   "cell_type": "code",
   "execution_count": null,
   "id": "1df4ff39-7525-40fd-b369-9f439983b311",
   "metadata": {},
   "outputs": [],
   "source": [
    "# Calculate the correlation matrix, excluding the 'Date' column\n",
    "correlation_matrix = filtered_grouped.drop(columns=['Date']).corr()\n",
    "\n",
    "# Sort the correlation values for 'Active Energy (kcal)' in descending order\n",
    "active_energy_corr = correlation_matrix['Active Energy (kcal)'].sort_values(ascending=False)\n",
    "\n",
    "# Print the sorted correlation values\n",
    "print(active_energy_corr)\n"
   ]
  },
  {
   "cell_type": "code",
   "execution_count": null,
   "id": "032113aa-0958-48ea-9e6e-55d4fc17ba55",
   "metadata": {
    "scrolled": true
   },
   "outputs": [],
   "source": [
    "correlation_matrix = filtered_grouped.drop(columns=['Date']).corr()\n",
    "\n",
    "# Step 3: Plot the heatmap\n",
    "plt.figure(figsize=(8, 6))\n",
    "sns.heatmap(correlation_matrix, annot=True, cmap='coolwarm', fmt=\".2f\", linewidths=0.5)\n",
    "plt.title(\"Correlation Heatmap (Excluding Date and Outlier)\")\n",
    "plt.show()"
   ]
  },
  {
   "cell_type": "code",
   "execution_count": null,
   "id": "d68ac262-6256-43b8-b8ba-2488317242ba",
   "metadata": {
    "scrolled": true
   },
   "outputs": [],
   "source": [
    "import scipy.stats as stats\n",
    "import pandas as pd\n",
    "\n",
    "# Assuming you already have 'filtered_grouped' dataset without outliers\n",
    "\n",
    "# Step 1: Calculate the correlation matrix, excluding the 'Date' column\n",
    "correlation_matrix = filtered_grouped.drop(columns=['Date']).corr()\n",
    "\n",
    "# Step 2: Initialize empty lists to store significant and non-significant correlations\n",
    "significant_correlations = []\n",
    "non_significant_correlations = []\n",
    "\n",
    "# Step 3: Calculate p-values and filter for significant correlations (p-value < 0.05)\n",
    "for var1 in correlation_matrix.columns:\n",
    "    for var2 in correlation_matrix.columns:\n",
    "        if var1 != var2:  # Skip self-correlation\n",
    "            # Calculate the Pearson correlation and p-value\n",
    "            corr, p_val = stats.pearsonr(filtered_grouped[var1], filtered_grouped[var2])\n",
    "            \n",
    "            # Simplify the p-value presentation\n",
    "            if p_val < 0.05:\n",
    "                simplified_p_val = \"<0.05\"\n",
    "                # Append to the list of significant correlations\n",
    "                significant_correlations.append({\n",
    "                    'Variable 1': var1,\n",
    "                    'Variable 2': var2,\n",
    "                    'Correlation': corr,\n",
    "                    'P-value': simplified_p_val\n",
    "                })\n",
    "            else:\n",
    "                simplified_p_val = \">0.05\"\n",
    "                # Append to the list of non-significant correlations\n",
    "                non_significant_correlations.append({\n",
    "                    'Variable 1': var1,\n",
    "                    'Variable 2': var2,\n",
    "                    'Correlation': corr,\n",
    "                    'P-value': simplified_p_val\n",
    "                })\n",
    "\n",
    "# Step 4: Convert the significant correlations to DataFrames for better display\n",
    "significant_df = pd.DataFrame(significant_correlations)\n",
    "non_significant_df = pd.DataFrame(non_significant_correlations)\n",
    "\n",
    "# Step 5: Display the significant correlations\n",
    "print(\"Significant Correlations:\")\n",
    "print(significant_df)\n",
    "\n",
    "# Display the non-significant correlations\n",
    "print(\"\\nNon-Significant Correlations:\")\n",
    "print(non_significant_df)\n"
   ]
  },
  {
   "cell_type": "code",
   "execution_count": null,
   "id": "9a4a8b5b-cfe3-4d53-b2e9-0b6cfc4377e5",
   "metadata": {},
   "outputs": [],
   "source": [
    "import matplotlib.pyplot as plt\n",
    "import seaborn as sns\n",
    "import scipy.stats as stats\n",
    "\n",
    "# Assuming filtered_grouped is your dataframe without outliers\n",
    "\n",
    "correlation_matrix = filtered_grouped.drop(columns=['Date']).corr()\n",
    "\n",
    "# Step 3: Extract the correlation values with 'Active Energy (kcal)'\n",
    "active_energy_corr = correlation_matrix['Active Energy (kcal)'].sort_values(ascending=False)\n",
    "\n",
    "# Step 4: Remove the 'Active Energy (kcal)' variable from the correlation results\n",
    "active_energy_corr = active_energy_corr.drop('Active Energy (kcal)')\n",
    "\n",
    "# Calculate p-values for each correlation with Active Energy (kcal)\n",
    "p_values = {}\n",
    "for variable in active_energy_corr.index:\n",
    "    corr, p_val = stats.pearsonr(filtered_grouped['Active Energy (kcal)'], filtered_grouped[variable])\n",
    "    p_values[variable] = p_val\n",
    "\n",
    "# Step 5: Plot the horizontal bar plot\n",
    "plt.figure(figsize=(8, 6), facecolor='white')\n",
    "\n",
    "# Create the bar plot and capture the axes (ax) object\n",
    "ax = sns.barplot(x=active_energy_corr, y=active_energy_corr.index, palette=\"magma\", orient='h')\n",
    "\n",
    "# Adding a slight grey grid to the plot\n",
    "plt.grid(True, axis='x', linestyle='--', linewidth=0.5, color='grey')\n",
    "\n",
    "# Manually setting the x-axis limit to match the highest correlation value\n",
    "plt.xlim(0, active_energy_corr.max())  # This adds a small buffer above the maximum value\n",
    "\n",
    "# Adding labels and title\n",
    "plt.xlabel(\"Correlation with Active Energy (kcal)\")\n",
    "plt.ylabel(\"Variables\")\n",
    "plt.title(\"Correlation of Variables with Active Energy (kcal)\")\n",
    "\n",
    "# Adjust text positions outside the figure (beside the whole plot)\n",
    "for i, (variable, corr_value) in enumerate(active_energy_corr.items()):\n",
    "    p_val = p_values[variable]\n",
    "    \n",
    "    # If the p-value is less than 0.005, display 'p < 0.005'\n",
    "    if p_val < 0.005:\n",
    "        p_value_text = f'p < 0.005'\n",
    "    else:\n",
    "        p_value_text = f'p = {p_val:.5f}'\n",
    "    \n",
    "    # Format the text to show both r and p-value\n",
    "    ax.text(active_energy_corr.max() * 1.05, i, f'r = {corr_value:.2f}, {p_value_text}', \n",
    "            color='black', va='center', ha='left', fontweight='bold')\n",
    "\n",
    "# Show the plot\n",
    "plt.show()\n"
   ]
  }
 ],
 "metadata": {
  "kernelspec": {
   "display_name": "Python 3 (ipykernel)",
   "language": "python",
   "name": "python3"
  },
  "language_info": {
   "codemirror_mode": {
    "name": "ipython",
    "version": 3
   },
   "file_extension": ".py",
   "mimetype": "text/x-python",
   "name": "python",
   "nbconvert_exporter": "python",
   "pygments_lexer": "ipython3",
   "version": "3.12.7"
  }
 },
 "nbformat": 4,
 "nbformat_minor": 5
}
